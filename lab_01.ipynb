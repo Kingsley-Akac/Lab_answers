{
 "cells": [
  {
   "cell_type": "markdown",
   "id": "0",
   "metadata": {},
   "source": [
    "# Lab 1\n",
    "\n",
    "[![Open In Colab](https://colab.research.google.com/assets/colab-badge.svg)](https://colab.research.google.com/github/giswqs/geog-312/blob/main/book/labs/lab_01.ipynb)"
   ]
  },
  {
   "cell_type": "markdown",
   "id": "1",
   "metadata": {},
   "source": [
    "## Exercise 1: Variable Assignment and Basic Operations\n",
    "\n",
    "Create variables to store the following geospatial data:\n",
    "\n",
    "- The latitude and longitude of New York City: 40.7128, -74.0060.\n",
    "- The population of New York City: 8,336,817.\n",
    "- The area of New York City in square kilometers: 783.8.\n",
    "\n",
    "Perform the following tasks:\n",
    "\n",
    "1. Calculate and print the population density of New York City (population per square kilometer).\n",
    "2. Print the coordinates in the format \"Latitude: [latitude], Longitude: [longitude]\"."
   ]
  },
  {
   "cell_type": "code",
   "execution_count": 2,
   "id": "2",
   "metadata": {},
   "outputs": [],
   "source": [
    "Data = {\n",
    "    \"latitude\": 40.7128,\n",
    "    \"longitude\": -74.0060,\n",
    "    \"population\": 8336817,\n",
    "    \"area_sq_km\": 783.8\n",
    "}"
   ]
  },
  {
   "cell_type": "code",
   "execution_count": 3,
   "id": "31457ee3",
   "metadata": {},
   "outputs": [],
   "source": [
    "Population_density = Data[\"population\"] / Data[\"area_sq_km\"]"
   ]
  },
  {
   "cell_type": "code",
   "execution_count": 4,
   "id": "5ec10f2f",
   "metadata": {},
   "outputs": [
    {
     "data": {
      "text/plain": [
       "10636.408522582293"
      ]
     },
     "execution_count": 4,
     "metadata": {},
     "output_type": "execute_result"
    }
   ],
   "source": [
    "Population_density"
   ]
  },
  {
   "cell_type": "code",
   "execution_count": 5,
   "id": "5ace7186",
   "metadata": {},
   "outputs": [
    {
     "name": "stdout",
     "output_type": "stream",
     "text": [
      "Population_density: 10636.41 people per square kilometer\n"
     ]
    }
   ],
   "source": [
    "print(f\"Population_density: {Population_density:.2f} people per square kilometer\")"
   ]
  },
  {
   "cell_type": "code",
   "execution_count": 9,
   "id": "903da9df",
   "metadata": {},
   "outputs": [
    {
     "name": "stdout",
     "output_type": "stream",
     "text": [
      "latitude: 40.7128, longitude: -74.006\n"
     ]
    }
   ],
   "source": [
    "print(f\"latitude: {Data['latitude']}, longitude: {Data['longitude']}\")"
   ]
  },
  {
   "cell_type": "markdown",
   "id": "3",
   "metadata": {},
   "source": [
    "## Exercise 2: Working with Strings\n",
    "\n",
    "Create a string variable to store the name of a city, such as \"San Francisco\". Perform the following operations:\n",
    "\n",
    "1. Convert the string to lowercase and print the result.\n",
    "2. Convert the string to uppercase and print the result.\n",
    "3. Replace \"San\" with \"Los\" in the city name and print the new string."
   ]
  },
  {
   "cell_type": "code",
   "execution_count": 10,
   "id": "51cb4546",
   "metadata": {},
   "outputs": [],
   "source": [
    "city = \"San Francisco\""
   ]
  },
  {
   "cell_type": "code",
   "execution_count": 11,
   "id": "7cb5f9df",
   "metadata": {},
   "outputs": [
    {
     "data": {
      "text/plain": [
       "'San Francisco'"
      ]
     },
     "execution_count": 11,
     "metadata": {},
     "output_type": "execute_result"
    }
   ],
   "source": [
    "city"
   ]
  },
  {
   "cell_type": "code",
   "execution_count": 12,
   "id": "4",
   "metadata": {},
   "outputs": [
    {
     "name": "stdout",
     "output_type": "stream",
     "text": [
      "san francisco\n"
     ]
    }
   ],
   "source": [
    "lowercase_city = city.lower()\n",
    "print(lowercase_city)"
   ]
  },
  {
   "cell_type": "code",
   "execution_count": 13,
   "id": "db32fb6e",
   "metadata": {},
   "outputs": [
    {
     "name": "stdout",
     "output_type": "stream",
     "text": [
      "SAN FRANCISCO\n"
     ]
    }
   ],
   "source": [
    "uppercase_city = city.upper()\n",
    "print(uppercase_city)"
   ]
  },
  {
   "cell_type": "code",
   "execution_count": 14,
   "id": "59e2248f",
   "metadata": {},
   "outputs": [
    {
     "name": "stdout",
     "output_type": "stream",
     "text": [
      "Los Francisco\n"
     ]
    }
   ],
   "source": [
    "new_city = city.replace(\"San\", \"Los\")\n",
    "print(new_city)"
   ]
  },
  {
   "cell_type": "markdown",
   "id": "5",
   "metadata": {},
   "source": [
    "## Exercise 3: Using Lists\n",
    "\n",
    "Create a list of tuples, where each tuple contains the name of a city and its corresponding latitude and longitude:\n",
    "\n",
    "- New York City: (40.7128, -74.0060)\n",
    "- Los Angeles: (34.0522, -118.2437)\n",
    "- Chicago: (41.8781, -87.6298)\n",
    "\n",
    "Perform the following tasks:\n",
    "\n",
    "1. Add a new city (e.g., Miami: (25.7617, -80.1918)) to the list.\n",
    "2. Print the entire list of cities.\n",
    "3. Slice the list to print only the first two cities."
   ]
  },
  {
   "cell_type": "code",
   "execution_count": 15,
   "id": "6",
   "metadata": {},
   "outputs": [],
   "source": [
    "Cities = [\n",
    "    (\"New York\", 40.7128, -74.0060),\n",
    "    (\"Los Angeles\", 34.0522, -118.2437),\n",
    "    (\"Chicago\", 41.8781, -87.6298)\n",
    "]"
   ]
  },
  {
   "cell_type": "code",
   "execution_count": null,
   "id": "2ad8582f",
   "metadata": {},
   "outputs": [],
   "source": [
    "Cities.append((\"Miami\", 25.7617, -80.1918))"
   ]
  },
  {
   "cell_type": "code",
   "execution_count": 17,
   "id": "6cc5aad9",
   "metadata": {},
   "outputs": [
    {
     "name": "stdout",
     "output_type": "stream",
     "text": [
      "All cities: [('New York', 40.7128, -74.006), ('Los Angeles', 34.0522, -118.2437), ('Chicago', 41.8781, -87.6298), ('Miami', 25.7617, -80.1918)]\n"
     ]
    }
   ],
   "source": [
    "print(\"All cities:\", Cities)"
   ]
  },
  {
   "cell_type": "code",
   "execution_count": 19,
   "id": "2126c958",
   "metadata": {},
   "outputs": [
    {
     "name": "stdout",
     "output_type": "stream",
     "text": [
      "First two cities: [('New York', 40.7128, -74.006), ('Los Angeles', 34.0522, -118.2437)]\n"
     ]
    }
   ],
   "source": [
    "print(\"First two cities:\", Cities[:2])"
   ]
  },
  {
   "cell_type": "code",
   "execution_count": 22,
   "id": "cf21444e",
   "metadata": {},
   "outputs": [
    {
     "name": "stdout",
     "output_type": "stream",
     "text": [
      "First two cities: [('Chicago', 41.8781, -87.6298), ('Miami', 25.7617, -80.1918)]\n"
     ]
    }
   ],
   "source": [
    "print(\"First two cities:\", Cities[-2:])"
   ]
  },
  {
   "cell_type": "markdown",
   "id": "7",
   "metadata": {},
   "source": [
    "## Exercise 4: Using Tuples\n",
    "\n",
    "Create a tuple to store the coordinates (latitude, longitude) of the Eiffel Tower: (48.8584, 2.2945). Perform the following tasks:\n",
    "\n",
    "1. Access and print the latitude and longitude values from the tuple.\n",
    "2. Try to change the latitude value to 48.8585. What happens? Explain why."
   ]
  },
  {
   "cell_type": "code",
   "execution_count": 23,
   "id": "3115c2c1",
   "metadata": {},
   "outputs": [
    {
     "name": "stdout",
     "output_type": "stream",
     "text": [
      "Eiffel Tower coordinates: (48.8584, 2.2945)\n"
     ]
    }
   ],
   "source": [
    "Eiffel_Tower = (48.8584, 2.2945) # Latitude and Longitude of the Eiffel Tower\n",
    "print(f\"Eiffel Tower coordinates: {Eiffel_Tower}\")"
   ]
  },
  {
   "cell_type": "code",
   "execution_count": 24,
   "id": "8",
   "metadata": {},
   "outputs": [],
   "source": [
    "latitude = 48.8585"
   ]
  },
  {
   "cell_type": "code",
   "execution_count": 25,
   "id": "2b724d1f",
   "metadata": {},
   "outputs": [
    {
     "name": "stdout",
     "output_type": "stream",
     "text": [
      "Eiffel Tower coordinates: (48.8584, 2.2945)\n"
     ]
    }
   ],
   "source": [
    "print(f\"Eiffel Tower coordinates: {Eiffel_Tower}\")"
   ]
  },
  {
   "cell_type": "code",
   "execution_count": 26,
   "id": "814ad32a",
   "metadata": {},
   "outputs": [],
   "source": [
    "Latitude = 48.8584\n",
    "Longitude = 2.2945"
   ]
  },
  {
   "cell_type": "code",
   "execution_count": 27,
   "id": "d1bdb7fd",
   "metadata": {},
   "outputs": [
    {
     "name": "stdout",
     "output_type": "stream",
     "text": [
      "Latitude: 48.8584\n"
     ]
    }
   ],
   "source": [
    "print(\"Latitude:\", Latitude)"
   ]
  },
  {
   "cell_type": "code",
   "execution_count": 28,
   "id": "3eed51c6",
   "metadata": {},
   "outputs": [
    {
     "name": "stdout",
     "output_type": "stream",
     "text": [
      "Longitude: 2.2945\n"
     ]
    }
   ],
   "source": [
    "print(\"Longitude:\", Longitude)"
   ]
  },
  {
   "cell_type": "code",
   "execution_count": 29,
   "id": "bb95f142",
   "metadata": {},
   "outputs": [],
   "source": [
    "latitude = 48.8585"
   ]
  },
  {
   "cell_type": "code",
   "execution_count": 30,
   "id": "6399885a",
   "metadata": {},
   "outputs": [
    {
     "name": "stdout",
     "output_type": "stream",
     "text": [
      "Latitude: 48.8585\n"
     ]
    }
   ],
   "source": [
    "print(\"Latitude:\", latitude)"
   ]
  },
  {
   "cell_type": "code",
   "execution_count": 33,
   "id": "f5d6fd6b",
   "metadata": {},
   "outputs": [
    {
     "name": "stdout",
     "output_type": "stream",
     "text": [
      "Latitude: 48.8584\n",
      "Longitude: 2.2945\n"
     ]
    }
   ],
   "source": [
    "# Step 1: Create a tuple for the Eiffel Tower coordinates\n",
    "eiffel_tower = (48.8584, 2.2945)\n",
    "\n",
    "# Step 2: Access and print latitude and longitude\n",
    "latitude = eiffel_tower[0]\n",
    "longitude = eiffel_tower[1]\n",
    "print(\"Latitude:\", latitude)\n",
    "print(\"Longitude:\", longitude)\n"
   ]
  },
  {
   "cell_type": "code",
   "execution_count": 34,
   "id": "6c801d9d",
   "metadata": {},
   "outputs": [
    {
     "name": "stdout",
     "output_type": "stream",
     "text": [
      "Updated Eiffel Tower coordinates: (48.8585, 2.2945)\n"
     ]
    }
   ],
   "source": [
    "# Step 3: Tuples are immutable, so you cannot change their values directly.\n",
    "# To \"change\" the latitude, create a new tuple:\n",
    "eiffel_tower = (48.8585, eiffel_tower[1])\n",
    "print(\"Updated Eiffel Tower coordinates:\", eiffel_tower)"
   ]
  },
  {
   "cell_type": "markdown",
   "id": "9",
   "metadata": {},
   "source": [
    "## Exercise 5: Working with Sets\n",
    "\n",
    "Create a set of countries you have visited, such as {\"USA\", \"France\", \"Germany\"}. Perform the following tasks:\n",
    "\n",
    "1. Add a new country to the set.\n",
    "2. Try to add the same country again. What happens?\n",
    "3. Print the updated set."
   ]
  },
  {
   "cell_type": "code",
   "execution_count": 35,
   "id": "7b7fbe0c",
   "metadata": {},
   "outputs": [],
   "source": [
    "Countries = ()"
   ]
  },
  {
   "cell_type": "code",
   "execution_count": 38,
   "id": "10",
   "metadata": {},
   "outputs": [],
   "source": [
    "Updated_Countries = Countries.__add__((\"USA\", \"Canada\", \"Mexico\"))"
   ]
  },
  {
   "cell_type": "code",
   "execution_count": 39,
   "id": "2f164973",
   "metadata": {},
   "outputs": [
    {
     "data": {
      "text/plain": [
       "('USA', 'Canada', 'Mexico')"
      ]
     },
     "execution_count": 39,
     "metadata": {},
     "output_type": "execute_result"
    }
   ],
   "source": [
    "Updated_Countries"
   ]
  },
  {
   "cell_type": "code",
   "execution_count": 40,
   "id": "4f7a3e41",
   "metadata": {},
   "outputs": [],
   "source": [
    "Countries = { \"USA\", \"France\", \"Germany\" }"
   ]
  },
  {
   "cell_type": "code",
   "execution_count": 41,
   "id": "6ecd5f13",
   "metadata": {},
   "outputs": [],
   "source": [
    "Countries.add(\"Italy\")"
   ]
  },
  {
   "cell_type": "code",
   "execution_count": 42,
   "id": "bbbd79da",
   "metadata": {},
   "outputs": [],
   "source": [
    "Countries.add(\"Italy\")"
   ]
  },
  {
   "cell_type": "code",
   "execution_count": 43,
   "id": "13793f78",
   "metadata": {},
   "outputs": [
    {
     "name": "stdout",
     "output_type": "stream",
     "text": [
      "{'USA', 'Germany', 'Italy', 'France'}\n"
     ]
    }
   ],
   "source": [
    "print(Countries)"
   ]
  },
  {
   "cell_type": "markdown",
   "id": "11",
   "metadata": {},
   "source": [
    "## Exercise 6: Working with Dictionaries\n",
    "\n",
    "Create a dictionary to store information about a specific geospatial feature, such as a river:\n",
    "\n",
    "- Name: \"Amazon River\"\n",
    "- Length: 6400 km\n",
    "- Countries: [\"Brazil\", \"Peru\", \"Colombia\"]\n",
    "\n",
    "Perform the following tasks:\n",
    "\n",
    "1. Add a new key-value pair to the dictionary to store the river's average discharge (e.g., 209,000 m³/s).\n",
    "2. Update the length of the river to 6992 km.\n",
    "3. Print the dictionary."
   ]
  },
  {
   "cell_type": "code",
   "execution_count": 44,
   "id": "12",
   "metadata": {},
   "outputs": [],
   "source": [
    "River = {\n",
    "    \"name\": \"Amazon River\",\n",
    "    \"length_km\": 6400,\n",
    "    \"countries\": [\"Brazil\", \"Peru\", \"Colombia\"]\n",
    "}"
   ]
  },
  {
   "cell_type": "code",
   "execution_count": 45,
   "id": "52bc5fe4",
   "metadata": {},
   "outputs": [],
   "source": [
    "River[\"Average_Discharge_m3_per_s\"] = 209_000"
   ]
  },
  {
   "cell_type": "code",
   "execution_count": 46,
   "id": "48d2feae",
   "metadata": {},
   "outputs": [
    {
     "data": {
      "text/plain": [
       "{'name': 'Amazon River',\n",
       " 'length_km': 6400,\n",
       " 'countries': ['Brazil', 'Peru', 'Colombia'],\n",
       " 'Average_Discharge_m3_per_s': 209000}"
      ]
     },
     "execution_count": 46,
     "metadata": {},
     "output_type": "execute_result"
    }
   ],
   "source": [
    "River"
   ]
  },
  {
   "cell_type": "code",
   "execution_count": 47,
   "id": "5d5193da",
   "metadata": {},
   "outputs": [],
   "source": [
    "River[\"Length_km\"] = 6992"
   ]
  },
  {
   "cell_type": "code",
   "execution_count": 48,
   "id": "357e5c53",
   "metadata": {},
   "outputs": [
    {
     "name": "stdout",
     "output_type": "stream",
     "text": [
      "{'name': 'Amazon River', 'length_km': 6400, 'countries': ['Brazil', 'Peru', 'Colombia'], 'Average_Discharge_m3_per_s': 209000, 'Length_km': 6992}\n"
     ]
    }
   ],
   "source": [
    "print(River)"
   ]
  },
  {
   "cell_type": "markdown",
   "id": "13",
   "metadata": {},
   "source": [
    "## Exercise 7: Nested Data Structures\n",
    "\n",
    "Create a dictionary to represent a city that contains the city's name, population, and coordinates (latitude, longitude):\n",
    "\n",
    "- Name: \"Tokyo\"\n",
    "- Population: 13,515,271\n",
    "- Coordinates: (35.6895, 139.6917)\n",
    "\n",
    "Perform the following tasks:\n",
    "\n",
    "1. Access and print the population of the city.\n",
    "2. Access and print the city's latitude.\n",
    "3. Update the population to 14,000,000 and print the updated dictionary."
   ]
  },
  {
   "cell_type": "code",
   "execution_count": 49,
   "id": "14",
   "metadata": {},
   "outputs": [],
   "source": [
    "City = {\n",
    "    \"name\": \"Tokyo\",\n",
    "    \"population\": 13515271,\n",
    "    \"coordinates\": (35.6895, 139.6917)\n",
    "}"
   ]
  },
  {
   "cell_type": "code",
   "execution_count": 52,
   "id": "9cc0ad5b",
   "metadata": {},
   "outputs": [],
   "source": [
    "Population = City[\"population\"]"
   ]
  },
  {
   "cell_type": "code",
   "execution_count": 53,
   "id": "4df50baf",
   "metadata": {},
   "outputs": [
    {
     "data": {
      "text/plain": [
       "13515271"
      ]
     },
     "execution_count": 53,
     "metadata": {},
     "output_type": "execute_result"
    }
   ],
   "source": [
    "Population"
   ]
  },
  {
   "cell_type": "code",
   "execution_count": 58,
   "id": "e688fd37",
   "metadata": {},
   "outputs": [
    {
     "name": "stdout",
     "output_type": "stream",
     "text": [
      "Latitude: 35.6895\n"
     ]
    }
   ],
   "source": [
    "Latitude = City[\"coordinates\"][0]\n",
    "print(\"Latitude:\", Latitude)"
   ]
  },
  {
   "cell_type": "code",
   "execution_count": 55,
   "id": "8e899d62",
   "metadata": {},
   "outputs": [],
   "source": [
    "City[\"population\"] = 14000000"
   ]
  },
  {
   "cell_type": "code",
   "execution_count": 57,
   "id": "961899ee",
   "metadata": {},
   "outputs": [
    {
     "name": "stdout",
     "output_type": "stream",
     "text": [
      "Updated City Info: {'name': 'Tokyo', 'population': 14000000, 'coordinates': (35.6895, 139.6917)}\n"
     ]
    }
   ],
   "source": [
    "print(\"Updated City Info:\", City)"
   ]
  },
  {
   "cell_type": "markdown",
   "id": "15",
   "metadata": {},
   "source": [
    "## Exercise 8: List Operations\n",
    "\n",
    "Given the list of cities from Exercise 3, perform the following operations:\n",
    "\n",
    "1. Sort the list of cities alphabetically by name.\n",
    "2. Create a new list that contains only the city names.\n",
    "3. Remove the last city from the original list and print the updated list."
   ]
  },
  {
   "cell_type": "code",
   "execution_count": 59,
   "id": "16",
   "metadata": {},
   "outputs": [
    {
     "data": {
      "text/plain": [
       "[('New York', 40.7128, -74.006),\n",
       " ('Los Angeles', 34.0522, -118.2437),\n",
       " ('Chicago', 41.8781, -87.6298),\n",
       " ('Miami', 25.7617, -80.1918)]"
      ]
     },
     "execution_count": 59,
     "metadata": {},
     "output_type": "execute_result"
    }
   ],
   "source": [
    "Cities"
   ]
  },
  {
   "cell_type": "code",
   "execution_count": 60,
   "id": "05882098",
   "metadata": {},
   "outputs": [],
   "source": [
    "Sorted_Cities = sorted(Cities)"
   ]
  },
  {
   "cell_type": "code",
   "execution_count": 61,
   "id": "38f3759b",
   "metadata": {},
   "outputs": [
    {
     "name": "stdout",
     "output_type": "stream",
     "text": [
      "[('Chicago', 41.8781, -87.6298), ('Los Angeles', 34.0522, -118.2437), ('Miami', 25.7617, -80.1918), ('New York', 40.7128, -74.006)]\n"
     ]
    }
   ],
   "source": [
    "print(Sorted_Cities)"
   ]
  },
  {
   "cell_type": "code",
   "execution_count": 62,
   "id": "f0ec22bb",
   "metadata": {},
   "outputs": [],
   "source": [
    "Cities.sort()"
   ]
  },
  {
   "cell_type": "code",
   "execution_count": 63,
   "id": "ac72ae46",
   "metadata": {},
   "outputs": [
    {
     "data": {
      "text/plain": [
       "[('Chicago', 41.8781, -87.6298),\n",
       " ('Los Angeles', 34.0522, -118.2437),\n",
       " ('Miami', 25.7617, -80.1918),\n",
       " ('New York', 40.7128, -74.006)]"
      ]
     },
     "execution_count": 63,
     "metadata": {},
     "output_type": "execute_result"
    }
   ],
   "source": [
    "Cities"
   ]
  },
  {
   "cell_type": "code",
   "execution_count": 67,
   "id": "54319d82",
   "metadata": {},
   "outputs": [
    {
     "name": "stdout",
     "output_type": "stream",
     "text": [
      "['Chicago', 'Los Angeles', 'Miami', 'New York']\n"
     ]
    }
   ],
   "source": [
    "city_names = [city[0] for city in Cities]\n",
    "print(city_names)"
   ]
  },
  {
   "cell_type": "code",
   "execution_count": 68,
   "id": "db91b016",
   "metadata": {},
   "outputs": [
    {
     "name": "stdout",
     "output_type": "stream",
     "text": [
      "Updated cities list after removing last city: [('Chicago', 41.8781, -87.6298), ('Los Angeles', 34.0522, -118.2437), ('Miami', 25.7617, -80.1918)]\n"
     ]
    }
   ],
   "source": [
    "Cities.pop()  # Removes the last item\n",
    "print(\"Updated cities list after removing last city:\", Cities)"
   ]
  },
  {
   "cell_type": "code",
   "execution_count": 75,
   "id": "c92af137",
   "metadata": {},
   "outputs": [
    {
     "name": "stdout",
     "output_type": "stream",
     "text": [
      "Updated cities list after removing Chicago: [('Los Angeles', 34.0522, -118.2437), ('Miami', 25.7617, -80.1918)]\n"
     ]
    }
   ],
   "source": [
    "Cities.remove((\"Chicago\", 41.8781, -87.6298))\n",
    "print(\"Updated cities list after removing Chicago:\", Cities)"
   ]
  },
  {
   "cell_type": "markdown",
   "id": "17",
   "metadata": {},
   "source": [
    "## Exercise 9: Dictionary Operations\n",
    "\n",
    "Using the dictionary from Exercise 6, perform the following tasks:\n",
    "\n",
    "1. Check if the key \"Length\" exists in the dictionary.\n",
    "2. Print all the keys in the dictionary.\n",
    "3. Print all the values in the dictionary."
   ]
  },
  {
   "cell_type": "code",
   "execution_count": 70,
   "id": "18",
   "metadata": {},
   "outputs": [],
   "source": [
    "river = {\n",
    "    \"Name\": \"Amazon River\",\n",
    "    \"Length_km\": 6992,\n",
    "    \"Countries\": [\"Brazil\", \"Peru\", \"Colombia\"],\n",
    "    \"Average_Discharge_m3_per_s\": 209_000\n",
    "}"
   ]
  },
  {
   "cell_type": "code",
   "execution_count": 71,
   "id": "2954627b",
   "metadata": {},
   "outputs": [
    {
     "name": "stdout",
     "output_type": "stream",
     "text": [
      "False\n",
      "True\n"
     ]
    }
   ],
   "source": [
    "print(\"Length\" in river)\n",
    "print(\"Length_km\" in river)"
   ]
  },
  {
   "cell_type": "code",
   "execution_count": 74,
   "id": "d642c207",
   "metadata": {},
   "outputs": [
    {
     "name": "stdout",
     "output_type": "stream",
     "text": [
      "Keys: dict_keys(['Name', 'Length_km', 'Countries', 'Average_Discharge_m3_per_s'])\n"
     ]
    }
   ],
   "source": [
    "print(\"Keys:\", river.keys())"
   ]
  },
  {
   "cell_type": "code",
   "execution_count": null,
   "id": "b7f84b10",
   "metadata": {},
   "outputs": [
    {
     "name": "stdout",
     "output_type": "stream",
     "text": [
      "Keys: ['Name', 'Length_km', 'Countries', 'Average_Discharge_m3_per_s']\n"
     ]
    }
   ],
   "source": [
    "print(\"Keys:\", list(river.keys())) # Convert to list for better readability\n"
   ]
  },
  {
   "cell_type": "code",
   "execution_count": 77,
   "id": "91013931",
   "metadata": {},
   "outputs": [
    {
     "name": "stdout",
     "output_type": "stream",
     "text": [
      "values: ['Amazon River', 6992, ['Brazil', 'Peru', 'Colombia'], 209000]\n"
     ]
    }
   ],
   "source": [
    "print(\"values:\", list(river.values())) # Convert to list for better readability"
   ]
  },
  {
   "cell_type": "code",
   "execution_count": 78,
   "id": "1b90d47e",
   "metadata": {},
   "outputs": [
    {
     "name": "stdout",
     "output_type": "stream",
     "text": [
      "values: dict_values(['Amazon River', 6992, ['Brazil', 'Peru', 'Colombia'], 209000])\n"
     ]
    }
   ],
   "source": [
    "print(\"values:\", river.values())"
   ]
  },
  {
   "cell_type": "markdown",
   "id": "19",
   "metadata": {},
   "source": [
    "## Exercise 10: Practical Application\n",
    "\n",
    "Imagine you have a list of tuples, each representing a location with its name, latitude, and longitude:"
   ]
  },
  {
   "cell_type": "code",
   "execution_count": 81,
   "id": "20",
   "metadata": {},
   "outputs": [],
   "source": [
    "locations = [\n",
    "    (\"Mount Everest\", 27.9881, 86.9250),\n",
    "    (\"K2\", 35.8808, 76.5155),\n",
    "    (\"Kangchenjunga\", 27.7025, 88.1475),\n",
    "]"
   ]
  },
  {
   "cell_type": "markdown",
   "id": "21",
   "metadata": {},
   "source": [
    "Perform the following tasks:\n",
    "\n",
    "1. Create a new list that contains only the names of the locations.\n",
    "2. Create a dictionary where the keys are location names and the values are tuples of their coordinates.\n",
    "3. Print the latitude of \"K2\" using the dictionary."
   ]
  },
  {
   "cell_type": "code",
   "execution_count": 83,
   "id": "22",
   "metadata": {},
   "outputs": [
    {
     "name": "stdout",
     "output_type": "stream",
     "text": [
      "Location names: ['Mount Everest', 'K2', 'Kangchenjunga']\n"
     ]
    }
   ],
   "source": [
    "location_names = [loc[0] for loc in locations]\n",
    "print(\"Location names:\", location_names)"
   ]
  },
  {
   "cell_type": "code",
   "execution_count": 84,
   "id": "59e2feb3",
   "metadata": {},
   "outputs": [
    {
     "name": "stdout",
     "output_type": "stream",
     "text": [
      "Location dictionary: {'Mount Everest': (27.9881, 86.925), 'K2': (35.8808, 76.5155), 'Kangchenjunga': (27.7025, 88.1475)}\n",
      "Latitude of K2: 35.8808\n"
     ]
    }
   ],
   "source": [
    "# 2) Create a dictionary with names as keys and (lat, lon) tuples as values\n",
    "location_dict = {loc[0]: (loc[1], loc[2]) for loc in locations}\n",
    "print(\"Location dictionary:\", location_dict)\n",
    "\n",
    "# 3) Print the latitude of \"K2\"\n",
    "print(\"Latitude of K2:\", location_dict[\"K2\"][0])"
   ]
  },
  {
   "cell_type": "code",
   "execution_count": null,
   "id": "3019f893",
   "metadata": {},
   "outputs": [],
   "source": []
  }
 ],
 "metadata": {
  "kernelspec": {
   "display_name": "geo",
   "language": "python",
   "name": "python3"
  },
  "language_info": {
   "codemirror_mode": {
    "name": "ipython",
    "version": 3
   },
   "file_extension": ".py",
   "mimetype": "text/x-python",
   "name": "python",
   "nbconvert_exporter": "python",
   "pygments_lexer": "ipython3",
   "version": "3.11.13"
  }
 },
 "nbformat": 4,
 "nbformat_minor": 5
}

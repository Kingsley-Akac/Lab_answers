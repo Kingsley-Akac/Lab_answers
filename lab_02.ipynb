{
 "cells": [
  {
   "cell_type": "markdown",
   "id": "0",
   "metadata": {},
   "source": [
    "# Lab 2\n",
    "\n",
    "[![Open In Colab](https://colab.research.google.com/assets/colab-badge.svg)](https://colab.research.google.com/github/giswqs/geog-312/blob/main/book/labs/lab_02.ipynb)\n",
    "\n",
    "This notebook contains exercises based on the lectures on [**String Operations**](https://geog-312.gishub.org/book/python/04_string_operations.html) and [**Looping and Control Statements**](https://geog-312.gishub.org/book/python/05_looping.html). These exercises will help reinforce the concepts of string manipulation, loops, and conditionals in geospatial contexts."
   ]
  },
  {
   "cell_type": "markdown",
   "id": "1",
   "metadata": {},
   "source": [
    "## Exercise 1: Manipulating Geographic Location Strings\n",
    "\n",
    "- Create a string that represents the name of a geographic feature (e.g., `\"Amazon River\"`).\n",
    "- Convert the string to lowercase and then to uppercase.\n",
    "- Concatenate the string with the name of the country (e.g., `\"Brazil\"`) to create a full location name.\n",
    "- Repeat the string three times, separating each repetition with a dash (`-`)."
   ]
  },
  {
   "cell_type": "code",
   "execution_count": 1,
   "id": "2",
   "metadata": {},
   "outputs": [],
   "source": [
    "Feature = \"Amazon River\""
   ]
  },
  {
   "cell_type": "code",
   "execution_count": 3,
   "id": "dc8cc9aa",
   "metadata": {},
   "outputs": [
    {
     "data": {
      "text/plain": [
       "'amazon river'"
      ]
     },
     "execution_count": 3,
     "metadata": {},
     "output_type": "execute_result"
    }
   ],
   "source": [
    "Feature.lower()"
   ]
  },
  {
   "cell_type": "code",
   "execution_count": 4,
   "id": "aee6ac73",
   "metadata": {},
   "outputs": [
    {
     "data": {
      "text/plain": [
       "'AMAZON RIVER'"
      ]
     },
     "execution_count": 4,
     "metadata": {},
     "output_type": "execute_result"
    }
   ],
   "source": [
    "Feature.upper()"
   ]
  },
  {
   "cell_type": "code",
   "execution_count": 9,
   "id": "662c2076",
   "metadata": {},
   "outputs": [],
   "source": [
    "country = \"Brazil\"\n",
    "full_location = country + \",\"  +  Feature"
   ]
  },
  {
   "cell_type": "code",
   "execution_count": 10,
   "id": "dc418e78",
   "metadata": {},
   "outputs": [
    {
     "name": "stdout",
     "output_type": "stream",
     "text": [
      "Full location: Brazil,Amazon River\n"
     ]
    }
   ],
   "source": [
    "print(\"Full location:\", full_location)"
   ]
  },
  {
   "cell_type": "code",
   "execution_count": 11,
   "id": "389a8a98",
   "metadata": {},
   "outputs": [
    {
     "name": "stdout",
     "output_type": "stream",
     "text": [
      "Repeated feature: Amazon River - Amazon River - Amazon River\n"
     ]
    }
   ],
   "source": [
    "repeated_feature = (Feature + \" - \") * 2 + Feature  # Adds dash between, no trailing dash\n",
    "print(\"Repeated feature:\", repeated_feature)"
   ]
  },
  {
   "cell_type": "markdown",
   "id": "3",
   "metadata": {},
   "source": [
    "## Exercise 2: Extracting and Formatting Coordinates\n",
    "\n",
    "- Given a string with the format `\"latitude, longitude\"` (e.g., `\"40.7128N, 74.0060W\"`), extract the numeric values of latitude and longitude.\n",
    "- Convert these values to floats and remove the directional indicators (`N`, `S`, `E`, `W`).\n",
    "- Format the coordinates into a `POINT` WKT string (e.g., `\"POINT(-74.0060 40.7128)\"`)."
   ]
  },
  {
   "cell_type": "code",
   "execution_count": 12,
   "id": "4",
   "metadata": {},
   "outputs": [],
   "source": [
    "coordinates = \"40.7128N, 74.0060W\"\n",
    "lat_str, lon_str = coordinates.split(\",\")\n",
    "lat_str = lat_str.strip()\n",
    "lon_str = lon_str.strip()"
   ]
  },
  {
   "cell_type": "code",
   "execution_count": 13,
   "id": "222c030c",
   "metadata": {},
   "outputs": [
    {
     "data": {
      "text/plain": [
       "'40.7128N'"
      ]
     },
     "execution_count": 13,
     "metadata": {},
     "output_type": "execute_result"
    }
   ],
   "source": [
    "lat_str"
   ]
  },
  {
   "cell_type": "code",
   "execution_count": 14,
   "id": "da93f44e",
   "metadata": {},
   "outputs": [
    {
     "data": {
      "text/plain": [
       "'74.0060W'"
      ]
     },
     "execution_count": 14,
     "metadata": {},
     "output_type": "execute_result"
    }
   ],
   "source": [
    "lon_str"
   ]
  },
  {
   "cell_type": "code",
   "execution_count": null,
   "id": "da7a3d3a",
   "metadata": {},
   "outputs": [],
   "source": [
    "# Extract direction\n",
    "lat_dir = lat_str[-1]\n",
    "lon_dir = lon_str[-1]\n",
    "\n",
    "# Extract numeric part and convert to float\n",
    "lat_value = float(lat_str[:-1])\n",
    "lon_value = float(lon_str[:-1])\n",
    "\n",
    "# Apply sign based on direction\n",
    "if lat_dir.upper() == 'S':\n",
    "    lat_value = -lat_value\n",
    "if lon_dir.upper() == 'W':\n",
    "    lon_value = -lon_value"
   ]
  },
  {
   "cell_type": "code",
   "execution_count": 17,
   "id": "c57b6df3",
   "metadata": {},
   "outputs": [
    {
     "name": "stdout",
     "output_type": "stream",
     "text": [
      "POINT(-74.006 40.7128)\n"
     ]
    }
   ],
   "source": [
    "wkt_point = f\"POINT({lon_value} {lat_value})\"\n",
    "print(wkt_point)"
   ]
  },
  {
   "cell_type": "markdown",
   "id": "5",
   "metadata": {},
   "source": [
    "## Exercise 3: Building Dynamic SQL Queries\n",
    "\n",
    "- Given a table name and a condition, dynamically build an SQL query string.\n",
    "- Example: If `table_name = \"cities\"` and `condition = \"population > 1000000\"`, the query should be `\"SELECT * FROM cities WHERE population > 1000000;\"`.\n",
    "- Add additional conditions dynamically, like `AND` clauses."
   ]
  },
  {
   "cell_type": "code",
   "execution_count": null,
   "id": "6",
   "metadata": {},
   "outputs": [
    {
     "name": "stdout",
     "output_type": "stream",
     "text": [
      "SELECT * FROM cities WHERE population > 1000000 AND country = 'USA';\n"
     ]
    }
   ],
   "source": [
    "# Inputs\n",
    "table_name = \"cities\"\n",
    "conditions = [\"population > 1000000\", \"country = 'USA'\"]\n",
    "\n",
    "# Build the base query\n",
    "query = f\"SELECT * FROM {table_name}\"\n",
    "\n",
    "# Add conditions dynamically\n",
    "if conditions:\n",
    "    query += \" WHERE \" + \" AND \".join(conditions)\n",
    "\n",
    "# Terminate with a semicolon\n",
    "query += \";\"\n",
    "\n",
    "print(query)\n"
   ]
  },
  {
   "cell_type": "code",
   "execution_count": 27,
   "id": "de0c54f1",
   "metadata": {},
   "outputs": [
    {
     "name": "stdout",
     "output_type": "stream",
     "text": [
      "{'city': 'Lagos', 'population': 7419600}\n",
      "{'city': 'Rivers', 'population': 4980400}\n",
      "{'city': 'Abia', 'population': 8716000}\n"
     ]
    }
   ],
   "source": [
    "population_data = [\n",
    "    {\"city\": \"Lagos\", \"population\": 7419600},\n",
    "    {\"city\": \"Rivers\", \"population\": 4980400},\n",
    "    {\"city\": \"Abia\", \"population\": 8716000},\n",
    "    {\"city\": \"Imo\", \"population\": 2328000},\n",
    "    {\"city\": \"Abuja\", \"population\": 2690000}\n",
    "]\n",
    "for city_data in population_data:\n",
    "   if city_data[\"population\"] > 4000000:\n",
    "      print(city_data)"
   ]
  },
  {
   "cell_type": "markdown",
   "id": "7",
   "metadata": {},
   "source": [
    "## Exercise 4: String Normalization and Cleaning\n",
    "\n",
    "- Given a list of city names with inconsistent formatting (e.g., `[\" new york \", \"Los ANGELES\", \"   CHICAGO\"]`), normalize the names by:\n",
    "  - Stripping any leading or trailing whitespace.\n",
    "  - Converting them to title case (e.g., `\"New York\"`, `\"Los Angeles\"`, `\"Chicago\"`).\n",
    "- Ensure that the output is a clean list of city names."
   ]
  },
  {
   "cell_type": "code",
   "execution_count": 28,
   "id": "8",
   "metadata": {},
   "outputs": [
    {
     "name": "stdout",
     "output_type": "stream",
     "text": [
      "['New York', 'Los Angeles', 'Chicago']\n"
     ]
    }
   ],
   "source": [
    "# Given list of city names with inconsistent formatting\n",
    "raw_cities = [\" new york \", \"Los ANGELES\", \"   CHICAGO\"]\n",
    "\n",
    "# Normalize: strip whitespace and convert to title case\n",
    "clean_cities = [city.strip().title() for city in raw_cities]\n",
    "\n",
    "print(clean_cities)\n"
   ]
  },
  {
   "cell_type": "markdown",
   "id": "9",
   "metadata": {},
   "source": [
    "## Exercise 5: Parsing and Extracting Address Information\n",
    "\n",
    "- Given a string in the format `\"Street, City, Country\"` (e.g., `\"123 Main St, Springfield, USA\"`), write a function that parses the string into a dictionary with keys `street`, `city`, and `country`.\n",
    "- The function should return a dictionary like `{\"street\": \"123 Main St\", \"city\": \"Springfield\", \"country\": \"USA\"}`."
   ]
  },
  {
   "cell_type": "code",
   "execution_count": 29,
   "id": "10",
   "metadata": {},
   "outputs": [
    {
     "name": "stdout",
     "output_type": "stream",
     "text": [
      "{'street': '123 Main St', 'city': 'Springfield', 'country': 'USA'}\n"
     ]
    }
   ],
   "source": [
    "address = \"123 Main St, Springfield, USA\"\n",
    "\n",
    "def extract_address_info(address):\n",
    "    parts = address.split(\", \")\n",
    "    street = parts[0]\n",
    "    city = parts[1]\n",
    "    country = parts[2]\n",
    "    return {\"street\": street, \"city\": city, \"country\": country}\n",
    "\n",
    "print(extract_address_info(address)) "
   ]
  },
  {
   "cell_type": "markdown",
   "id": "11",
   "metadata": {},
   "source": [
    "## Exercise 6: Using For Loops to Process Coordinate Lists\n",
    "\n",
    "- Create a list of tuples representing coordinates (latitude, longitude).\n",
    "- Write a `for` loop that prints each coordinate and indicates whether it is in the Northern or Southern Hemisphere based on the latitude."
   ]
  },
  {
   "cell_type": "code",
   "execution_count": 30,
   "id": "12",
   "metadata": {},
   "outputs": [
    {
     "name": "stdout",
     "output_type": "stream",
     "text": [
      "Coordinate: (40.7128, -74.006) - Northern Hemisphere\n",
      "Coordinate: (-33.8688, 151.2093) - Southern Hemisphere\n",
      "Coordinate: (51.5074, -0.1278) - Northern Hemisphere\n",
      "Coordinate: (-23.5505, -46.6333) - Southern Hemisphere\n"
     ]
    }
   ],
   "source": [
    "# Step 1: Create a list of tuples (latitude, longitude)\n",
    "coordinates = [\n",
    "    (40.7128, -74.0060),  # New York\n",
    "    (-33.8688, 151.2093), # Sydney\n",
    "    (51.5074, -0.1278),   # London\n",
    "    (-23.5505, -46.6333)  # São Paulo\n",
    "]\n",
    "\n",
    "# Step 2: Loop through each coordinate and determine hemisphere\n",
    "for lat, lon in coordinates:\n",
    "    hemisphere = \"Northern Hemisphere\" if lat >= 0 else \"Southern Hemisphere\"\n",
    "    print(f\"Coordinate: ({lat}, {lon}) - {hemisphere}\")\n"
   ]
  },
  {
   "cell_type": "markdown",
   "id": "13",
   "metadata": {},
   "source": [
    "## Exercise 7: While Loops for Iterative Processing\n",
    "\n",
    "- Create a list of coordinates (latitude, longitude).\n",
    "- Write a `while` loop that continues to print each coordinate until it encounters a coordinate with a negative latitude.\n",
    "- Stop the loop once this condition is met."
   ]
  },
  {
   "cell_type": "code",
   "execution_count": 35,
   "id": "14",
   "metadata": {},
   "outputs": [
    {
     "name": "stdout",
     "output_type": "stream",
     "text": [
      "Coordinate: (40.7128, -74.006)\n",
      "Coordinate: (51.5074, -0.1278)\n",
      "Encountered negative latitude at: (-33.8688, 151.2093) — stopping.\n"
     ]
    }
   ],
   "source": [
    "# Step 1: Create a list of coordinates (latitude, longitude)\n",
    "coordinates = [\n",
    "    (40.7128, -74.0060),\n",
    "    (51.5074, -0.1278),  \n",
    "    (-33.8688, 151.2093), \n",
    "    (35.6895, 139.6917)  \n",
    "]\n",
    "\n",
    "# Step 2: Use a while loop to print until a negative latitude is found\n",
    "index = 0\n",
    "while index < len(coordinates):\n",
    "    lat, lon = coordinates[index]\n",
    "    if lat < 0:\n",
    "        print(f\"Encountered negative latitude at: ({lat}, {lon}) — stopping.\")\n",
    "        break\n",
    "    print(f\"Coordinate: ({lat}, {lon})\")\n",
    "    index += 1\n"
   ]
  },
  {
   "cell_type": "markdown",
   "id": "15",
   "metadata": {},
   "source": [
    "## Exercise 8: Conditional Logic in Loops\n",
    "\n",
    "- Create a list of coordinates and use a `for` loop to iterate over them.\n",
    "- Use an `if-elif-else` statement inside the loop to classify each coordinate based on its longitude:\n",
    "  - Print `\"Eastern Hemisphere\"` if the longitude is greater than 0.\n",
    "  - Print `\"Western Hemisphere\"` if the longitude is less than 0."
   ]
  },
  {
   "cell_type": "code",
   "execution_count": 36,
   "id": "16",
   "metadata": {},
   "outputs": [
    {
     "name": "stdout",
     "output_type": "stream",
     "text": [
      "Coordinate: (40.7128, -74.006) - Western Hemisphere\n",
      "Coordinate: (51.5074, -0.1278) - Western Hemisphere\n",
      "Coordinate: (35.6895, 139.6917) - Eastern Hemisphere\n",
      "Coordinate: (-33.8688, 151.2093) - Eastern Hemisphere\n",
      "Coordinate: (6.5244, 3.3792) - Eastern Hemisphere\n"
     ]
    }
   ],
   "source": [
    "# List of coordinates (latitude, longitude)\n",
    "coordinates = [\n",
    "    (40.7128, -74.0060),   # New York\n",
    "    (51.5074, -0.1278),    # London\n",
    "    (35.6895, 139.6917),   # Tokyo\n",
    "    (-33.8688, 151.2093),  # Sydney\n",
    "    (6.5244, 3.3792)       # Lagos\n",
    "]\n",
    "\n",
    "# Iterate through each coordinate\n",
    "for lat, lon in coordinates:\n",
    "    if lon > 0:\n",
    "        print(f\"Coordinate: ({lat}, {lon}) - Eastern Hemisphere\")\n",
    "    elif lon < 0:\n",
    "        print(f\"Coordinate: ({lat}, {lon}) - Western Hemisphere\")\n",
    "    else:\n",
    "        print(f\"Coordinate: ({lat}, {lon}) - Prime Meridian\")\n"
   ]
  },
  {
   "cell_type": "markdown",
   "id": "17",
   "metadata": {},
   "source": [
    "## Exercise 9: Filtering Data with Combined Loops and Conditionals\n",
    "\n",
    "- Given a list of coordinates, filter out and store only those located in the Southern Hemisphere (latitude < 0).\n",
    "- Count the number of coordinates that meet this condition and print the result."
   ]
  },
  {
   "cell_type": "code",
   "execution_count": 37,
   "id": "18",
   "metadata": {},
   "outputs": [
    {
     "name": "stdout",
     "output_type": "stream",
     "text": [
      "Southern Hemisphere Coordinates: [(-33.8688, 151.2093)]\n",
      "Number of Southern Hemisphere Coordinates: 1\n"
     ]
    }
   ],
   "source": [
    "# List of coordinates (latitude, longitude)\n",
    "coordinates = [\n",
    "    (40.7128, -74.0060),   # New York\n",
    "    (51.5074, -0.1278),    # London\n",
    "    (35.6895, 139.6917),   # Tokyo\n",
    "    (-33.8688, 151.2093),  # Sydney\n",
    "    (6.5244, 3.3792)       # Lagos\n",
    "]\n",
    "\n",
    "# List to store Southern Hemisphere coordinates\n",
    "southern_coords = []\n",
    "\n",
    "# Loop through coordinates and filter those in the Southern Hemisphere\n",
    "for lat, lon in coordinates:\n",
    "    if lat < 0:  # Southern Hemisphere condition\n",
    "        southern_coords.append((lat, lon))\n",
    "\n",
    "# Count the number of Southern Hemisphere coordinates\n",
    "count_southern = len(southern_coords)\n",
    "\n",
    "# Print results\n",
    "print(\"Southern Hemisphere Coordinates:\", southern_coords)\n",
    "print(\"Number of Southern Hemisphere Coordinates:\", count_southern)\n"
   ]
  },
  {
   "cell_type": "markdown",
   "id": "19",
   "metadata": {},
   "source": [
    "## Exercise 10: Generating and Analyzing Random Coordinates\n",
    "\n",
    "- Write a program that generates random coordinates (latitude between [-90, 90] degrees and longitude between [-180, 180] degrees).\n",
    "- Use a `while` loop to keep generating coordinates until a pair with both latitude and longitude greater than 50 is generated.\n",
    "- Print each generated coordinate and the final coordinate that meets the condition."
   ]
  },
  {
   "cell_type": "code",
   "execution_count": 1,
   "id": "20",
   "metadata": {},
   "outputs": [
    {
     "name": "stdout",
     "output_type": "stream",
     "text": [
      "Generated Coordinate: (75.02054710280441, 168.55084030832563)\n",
      "Final Coordinate that meets the condition: (75.02054710280441, 168.55084030832563)\n"
     ]
    }
   ],
   "source": [
    "import random\n",
    "\n",
    "# Function to generate a random coordinate\n",
    "def generate_random_coordinate():\n",
    "    # Latitude between -90 and 90, Longitude between -180 and 180\n",
    "    lat = random.uniform(-90, 90)\n",
    "    lon = random.uniform(-180, 180)\n",
    "    return (lat, lon)\n",
    "\n",
    "# While loop to generate coordinates until both lat & lon > 50\n",
    "while True:\n",
    "    coord = generate_random_coordinate()\n",
    "    print(f\"Generated Coordinate: {coord}\")\n",
    "\n",
    "    # Check if both latitude and longitude are greater than 50\n",
    "    if coord[0] > 50 and coord[1] > 50:\n",
    "        print(f\"Final Coordinate that meets the condition: {coord}\")\n",
    "        break\n"
   ]
  }
 ],
 "metadata": {
  "kernelspec": {
   "display_name": "geo",
   "language": "python",
   "name": "python3"
  },
  "language_info": {
   "codemirror_mode": {
    "name": "ipython",
    "version": 3
   },
   "file_extension": ".py",
   "mimetype": "text/x-python",
   "name": "python",
   "nbconvert_exporter": "python",
   "pygments_lexer": "ipython3",
   "version": "3.11.13"
  }
 },
 "nbformat": 4,
 "nbformat_minor": 5
}
